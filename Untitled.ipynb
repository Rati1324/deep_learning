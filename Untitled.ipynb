{
 "cells": [
  {
   "cell_type": "code",
   "execution_count": 1,
   "id": "5c9bc679",
   "metadata": {},
   "outputs": [],
   "source": [
    "from fastai.text.all import *\n",
    "path = untar_data(URLs.IMDB)"
   ]
  },
  {
   "cell_type": "code",
   "execution_count": 2,
   "id": "69c1988d",
   "metadata": {},
   "outputs": [],
   "source": [
    "files = get_text_files(path, folders = ['train', 'test', 'unsup'])"
   ]
  },
  {
   "cell_type": "code",
   "execution_count": 3,
   "id": "9f1ee729",
   "metadata": {},
   "outputs": [],
   "source": [
    "# aka txt\n",
    "first_review = files[0].open().read(); "
   ]
  },
  {
   "cell_type": "code",
   "execution_count": 4,
   "id": "e90faa8e",
   "metadata": {},
   "outputs": [
    {
     "name": "stdout",
     "output_type": "stream",
     "text": [
      "(#310) ['This','is','a','sublime','piece','of','film','-','making','.','It','flows','at','just','the','right','pace','throughout','.','The','accompanying','music','fits','perfectly','and','is','very','pleasant','to','the'...]\n"
     ]
    }
   ],
   "source": [
    "spacy = WordTokenizer()\n",
    "toks = first(spacy([first_review]))\n",
    "print(coll_repr(toks, 30))"
   ]
  },
  {
   "cell_type": "code",
   "execution_count": 5,
   "id": "ab77488f",
   "metadata": {
    "scrolled": true
   },
   "outputs": [
    {
     "name": "stdout",
     "output_type": "stream",
     "text": [
      "(#330) ['xxbos','xxmaj','this','is','a','sublime','piece','of','film','-','making','.','xxmaj','it','flows','at','just','the','right','pace','throughout','.','xxmaj','the','accompanying','music','fits','perfectly','and','is','very'...]\n"
     ]
    }
   ],
   "source": [
    "tkn = Tokenizer(spacy)\n",
    "print(coll_repr(tkn(first_review), 31))\n",
    "first_review_tokens = tkn(first_review)"
   ]
  },
  {
   "cell_type": "code",
   "execution_count": 6,
   "id": "0ab8bbda",
   "metadata": {},
   "outputs": [
    {
     "data": {
      "text/plain": [
       "(#8) ['xxbos','hi','hello','this','is','an','example','tokenization']"
      ]
     },
     "execution_count": 6,
     "metadata": {},
     "output_type": "execute_result"
    }
   ],
   "source": [
    "tkn(\"hi hello this is an example tokenization\")"
   ]
  },
  {
   "cell_type": "code",
   "execution_count": 7,
   "id": "7c5637ce",
   "metadata": {},
   "outputs": [],
   "source": [
    "# tokenizing and numericalizing 200 reviews"
   ]
  },
  {
   "cell_type": "code",
   "execution_count": 8,
   "id": "8cc24477",
   "metadata": {},
   "outputs": [],
   "source": [
    "txts = L(o.open().read() for o in files[:2000])"
   ]
  },
  {
   "cell_type": "code",
   "execution_count": 9,
   "id": "4daa5654",
   "metadata": {},
   "outputs": [],
   "source": [
    "tokens200 = txts[:200].map(tkn)"
   ]
  },
  {
   "cell_type": "code",
   "execution_count": 10,
   "id": "764b48c7",
   "metadata": {},
   "outputs": [
    {
     "data": {
      "text/plain": [
       "\"(#2328) ['xxunk','xxpad','xxbos','xxeos','xxfld','xxrep','xxwrep','xxup','xxmaj','the',',','.','and','a','of','to','is','in','it','i'...]\""
      ]
     },
     "execution_count": 10,
     "metadata": {},
     "output_type": "execute_result"
    }
   ],
   "source": [
    "num = Numericalize()\n",
    "num.setup(tokens200)\n",
    "coll_repr(num.vocab, 20)"
   ]
  },
  {
   "cell_type": "code",
   "execution_count": 11,
   "id": "7a7dd539",
   "metadata": {},
   "outputs": [
    {
     "data": {
      "text/plain": [
       "TensorText([  2,   8,  20,  16,  13,   0, 632,  14,  29,  23, 244,  11,   8,\n",
       "             18,   0,  48,  75,   9, 203, 785])"
      ]
     },
     "execution_count": 11,
     "metadata": {},
     "output_type": "execute_result"
    }
   ],
   "source": [
    "nums = num(first_review_tokens)[:20]; nums"
   ]
  },
  {
   "cell_type": "code",
   "execution_count": 20,
   "id": "1d78c533",
   "metadata": {},
   "outputs": [
    {
     "data": {
      "text/plain": [
       "TensorText([  2,  19,  68,  42, 142, 217,  66, 112,   0,  21])"
      ]
     },
     "execution_count": 20,
     "metadata": {},
     "output_type": "execute_result"
    }
   ],
   "source": [
    "num(tokens200[2])[:10]"
   ]
  },
  {
   "cell_type": "code",
   "execution_count": null,
   "id": "0fed3b81",
   "metadata": {},
   "outputs": [],
   "source": []
  }
 ],
 "metadata": {
  "kernelspec": {
   "display_name": "Python 3 (ipykernel)",
   "language": "python",
   "name": "python3"
  },
  "language_info": {
   "codemirror_mode": {
    "name": "ipython",
    "version": 3
   },
   "file_extension": ".py",
   "mimetype": "text/x-python",
   "name": "python",
   "nbconvert_exporter": "python",
   "pygments_lexer": "ipython3",
   "version": "3.9.12"
  }
 },
 "nbformat": 4,
 "nbformat_minor": 5
}
